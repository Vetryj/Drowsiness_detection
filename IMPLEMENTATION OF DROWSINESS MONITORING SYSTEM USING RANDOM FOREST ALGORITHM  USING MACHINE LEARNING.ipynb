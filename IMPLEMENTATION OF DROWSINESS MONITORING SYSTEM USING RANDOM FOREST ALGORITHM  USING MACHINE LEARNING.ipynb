{
 "cells": [
  {
   "cell_type": "code",
   "execution_count": 1,
   "id": "c66584f6-cae3-4658-931d-2dfd1e84122c",
   "metadata": {},
   "outputs": [
    {
     "name": "stdout",
     "output_type": "stream",
     "text": [
      "pygame 2.5.2 (SDL 2.28.3, Python 3.11.7)\n",
      "Hello from the pygame community. https://www.pygame.org/contribute.html\n"
     ]
    }
   ],
   "source": [
    "#Importing OpenCV Library for basic image processing functions\n",
    "import cv2\n",
    "# Numpy for array related functions\n",
    "import numpy as np\n",
    "# Dlib for deep learning based Modules and face landmark detection\n",
    "import dlib\n",
    "#face_utils for basic operations of conversion\n",
    "from imutils import face_utils\n",
    "#for alarm sound\n",
    "from pygame import mixer\n"
   ]
  },
  {
   "cell_type": "code",
   "execution_count": 2,
   "id": "b1e91dba-cdfa-4ea0-a4c3-ee711aa316d4",
   "metadata": {
    "scrolled": true
   },
   "outputs": [],
   "source": [
    "\n",
    "#Sound\n",
    "mixer.init()\n",
    "sound = mixer.Sound('Alaram.wav')\n",
    "\n"
   ]
  },
  {
   "cell_type": "code",
   "execution_count": 3,
   "id": "30b0510c-376a-4980-bf89-71a43a41a6a2",
   "metadata": {},
   "outputs": [],
   "source": [
    "#Initializing the camera and taking the instance\n",
    "cap = cv2.VideoCapture(0)\n"
   ]
  },
  {
   "cell_type": "code",
   "execution_count": 4,
   "id": "0ccd731f-8947-437b-8c0b-1deea541ea59",
   "metadata": {},
   "outputs": [],
   "source": [
    "\n",
    "#Initializing the face detector and landmark detector\n",
    "detector = dlib.get_frontal_face_detector()\n",
    "predictor = dlib.shape_predictor(r\"shape_predictor_68_face_landmarks.dat\")\n"
   ]
  },
  {
   "cell_type": "code",
   "execution_count": null,
   "id": "732fe231-6289-4217-88a5-eab061724a7b",
   "metadata": {
    "scrolled": true
   },
   "outputs": [],
   "source": [
    "\n",
    "#status marking for current state\n",
    "sleep = 0\n",
    "drowsy = 0\n",
    "active = 0\n",
    "status=\"\"\n",
    "color=(0,0,0)\n",
    "\n",
    "def compute (ptA, ptB):\n",
    "    dist = np.linalg.norm(ptA - ptB)\n",
    "    return dist\n",
    "\n",
    "def blinked(a, b, c, d, e, f):\n",
    "    up = compute(b, d) + compute(c, e)\n",
    "    down = compute(a, f)\n",
    "    ratio = up/(2.0 * down)\n",
    "\n",
    "    #checking if it blinked\n",
    "    if (ratio>0.25):\n",
    "        return 2\n",
    "    elif (ratio > 0.21 and ratio <= 0.25):\n",
    "        return 1\n",
    "    else:\n",
    "        return 0\n",
    "\n",
    "while True:\n",
    "    _,frame = cap.read()\n",
    "    gray = cv2.cvtColor(frame, cv2.COLOR_BGR2GRAY)\n",
    "    faces = detector(gray)\n",
    "\n",
    "    #detect face in faces array\n",
    "    for face in faces:\n",
    "        x1 = face.left()\n",
    "        y1 = face.top()\n",
    "        x2 = face.right()\n",
    "        y2 = face.bottom()\n",
    "\n",
    "        face_frame = frame.copy()\n",
    "        cv2.rectangle(face_frame, (x1,y1), (x2,y2), (0, 255, 0), 2)\n",
    "        landmarks = predictor(gray, face)\n",
    "        landmarks = face_utils.shape_to_np(landmarks)\n",
    "\n",
    "        #numbers are landmarks which will show eye\n",
    "        left_blink = blinked(landmarks[36], landmarks[37], landmarks[38], landmarks[40], landmarks[41], landmarks[39])\n",
    "        right_blink = blinked(landmarks[42], landmarks[43], landmarks[44], landmarks[47], landmarks[46], landmarks[45])\n",
    "\n",
    "        #now judge what to do for eye blinks\n",
    "        if(left_blink==0 or right_blink==0):\n",
    "            sleep+=1\n",
    "            drowsy = 0\n",
    "            active = 0\n",
    "            if (sleep>6):\n",
    "                status = \"SLEEPING!!\"\n",
    "                color = (255, 0, 0)\n",
    "                try:\n",
    "                    sound.play()\n",
    "                except:\n",
    "                    pass\n",
    "\n",
    "        elif (left_blink==1 or right_blink==1):\n",
    "            sleep = 0\n",
    "            active = 0\n",
    "            drowsy+=1\n",
    "            if(drowsy>6):\n",
    "                status =  \"DROWSY!\"\n",
    "                color = (0,0,255)\n",
    "\n",
    "        else:\n",
    "            drowsy = 0\n",
    "            sleep = 0\n",
    "            active+=1\n",
    "            if(active>6):\n",
    "                status = \"ACTIVE\"\n",
    "                color= (0,255,0)\n",
    "\n",
    "        cv2.putText(frame,status,(100,100),cv2.FONT_HERSHEY_SIMPLEX,1.2,color,3)\n",
    "\n",
    "        for n in range(0,68):\n",
    "            (x,y) = landmarks[n]\n",
    "            cv2.circle(face_frame, (x,y), 1, (255,255,255), -1)\n",
    "\n",
    "    cv2.imshow(\"Frame\",frame)\n",
    "    cv2.imshow(\"Result\", face_frame)\n",
    "    key = cv2.waitKey(1)\n",
    "    if key == 27:\n",
    "        break"
   ]
  },
  {
   "cell_type": "code",
   "execution_count": null,
   "id": "85129a14-36d9-48b9-9131-77798f33594a",
   "metadata": {},
   "outputs": [],
   "source": []
  }
 ],
 "metadata": {
  "kernelspec": {
   "display_name": "Python 3 (ipykernel)",
   "language": "python",
   "name": "python3"
  },
  "language_info": {
   "codemirror_mode": {
    "name": "ipython",
    "version": 3
   },
   "file_extension": ".py",
   "mimetype": "text/x-python",
   "name": "python",
   "nbconvert_exporter": "python",
   "pygments_lexer": "ipython3",
   "version": "3.11.7"
  }
 },
 "nbformat": 4,
 "nbformat_minor": 5
}
